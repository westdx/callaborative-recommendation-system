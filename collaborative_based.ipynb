{
 "cells": [
  {
   "cell_type": "code",
   "execution_count": 1,
   "id": "d1951de1",
   "metadata": {},
   "outputs": [],
   "source": [
    "import pandas as pd\n",
    "import numpy as np\n",
    "from sklearn.model_selection import train_test_split\n",
    "import matplotlib.pyplot as plt\n",
    "\n",
    "transactions = pd.read_csv('transactions_train_data.csv', index_col = 0)\n",
    "transactions = transactions.drop(['t_dat', 'price', 'sales_channel_id'], axis = 1)\n",
    "train_data, test_data = train_test_split(transactions, test_size = .3, random_state = 1)"
   ]
  },
  {
   "cell_type": "code",
   "execution_count": 2,
   "id": "9baf5d86",
   "metadata": {},
   "outputs": [],
   "source": [
    "def build_dataset(data):\n",
    "    '''function to reconstruct original dataframe into a dictionary\n",
    "        dictionary layout:\n",
    "        {customer id : set([article id, article id, article id, ...])'''\n",
    "    \n",
    "    dic = {}\n",
    "    \n",
    "    for i in data.iterrows():\n",
    "        customer_id, article_id = i[1]\n",
    "       \n",
    "        if customer_id in dic:\n",
    "            dic[customer_id].add(article_id)\n",
    "        else:\n",
    "            dic[customer_id] = set()\n",
    "            dic[customer_id].add(article_id)\n",
    "    return dic"
   ]
  },
  {
   "cell_type": "code",
   "execution_count": 3,
   "id": "52e63e84",
   "metadata": {},
   "outputs": [],
   "source": [
    "#initiate the dataset into a dictionary\n",
    "train_data = build_dataset(train_data)"
   ]
  },
  {
   "cell_type": "code",
   "execution_count": 4,
   "id": "f371702b",
   "metadata": {},
   "outputs": [],
   "source": [
    "def build_matrix(data, k_list):\n",
    "    '''function to construct a binary matrix of k list of similar customers\n",
    "        index = customer id\n",
    "        column = articles'''\n",
    "    \n",
    "    articles = set()\n",
    "    matrix_dict = {}\n",
    "    #retrieve all unique article id given k list of similiar customers to the target\n",
    "    for i in k_list:\n",
    "        for j in data[i]:\n",
    "            articles.add(j)\n",
    "    \n",
    "    #reconstruct into a binary matrix 1 = have purchased, 0 = have not\n",
    "    for i in k_list:\n",
    "        i_list = data[i]\n",
    "        k_matrix = []\n",
    "        for a in articles:\n",
    "            if a in i_list:\n",
    "                k_matrix.append(1)\n",
    "            else:\n",
    "                k_matrix.append(0)\n",
    "        \n",
    "        matrix_dict[i] = k_matrix\n",
    "    \n",
    "    matrix = pd.DataFrame.from_dict(matrix_dict, orient='index')\n",
    "    matrix.columns = list(articles)\n",
    "    return matrix\n"
   ]
  },
  {
   "cell_type": "code",
   "execution_count": 5,
   "id": "934d98a3",
   "metadata": {},
   "outputs": [],
   "source": [
    "def cosine_similarity(list1, list2):\n",
    "    '''function to return the cosine similarity score of two list'''\n",
    "    \n",
    "    #reconstruct given two list into two new equal length list\n",
    "    set_list = set()\n",
    "    set_list = set_list.union(list1, list2)\n",
    "    new_1 = []\n",
    "    new_2 = []\n",
    "    \n",
    "    for i in set_list:\n",
    "        if i in list1:\n",
    "            new_1.append(1)\n",
    "        else:\n",
    "            new_1.append(0)\n",
    "        \n",
    "        if i in list2:\n",
    "            new_2.append(1)\n",
    "        else:\n",
    "            new_2.append(0)\n",
    "    \n",
    "    #cosine similarity formula\n",
    "    cosine = np.dot(new_1, new_2)/ (np.linalg.norm(new_1) * np.linalg.norm(new_2))\n",
    "    return cosine"
   ]
  },
  {
   "cell_type": "code",
   "execution_count": 6,
   "id": "57a4f505",
   "metadata": {},
   "outputs": [],
   "source": [
    "def mean_score(matrix):\n",
    "    '''function return mean score of a matrix by row\n",
    "        customer id : total number of purchased / total items in the matrix'''\n",
    "    \n",
    "    return matrix.mean(axis = 1)"
   ]
  },
  {
   "cell_type": "code",
   "execution_count": 7,
   "id": "8d006cda",
   "metadata": {},
   "outputs": [],
   "source": [
    "def get_knn(train_data, customer, K):\n",
    "    '''function return the K number customers' mean score and similarity score close to the targert customer\n",
    "        customer id : similarity, mean'''\n",
    "    \n",
    "    #get customer purchase profile from train dataset\n",
    "    customer = train_data[customer]\n",
    "    \n",
    "    #similarity score\n",
    "    corr_list = []\n",
    "    #customer id\n",
    "    sim_list = []\n",
    "    #iterate over entire dataset to find all customers' similarity score\n",
    "    for i in train_data:\n",
    "        Y = train_data[i]\n",
    "        if Y is not customer:\n",
    "            similarity = cosine_similarity(customer, Y)\n",
    "            corr_list.append(similarity)\n",
    "            sim_list.append(i)\n",
    "    \n",
    "    #construct dataframe based of the similarity score\n",
    "    result = pd.DataFrame()\n",
    "    result['similarity'] = corr_list\n",
    "    result.index = sim_list\n",
    "    #sort similarity score by descending order\n",
    "    result = result.sort_values(by = ['similarity'], ascending = False)\n",
    "    #get top K number of customer\n",
    "    result = result.iloc[0:K]\n",
    "    #filter out negative top K number of customers\n",
    "    result = result[result['similarity'] > 0]\n",
    "    #get the mean score of the remaining K number of customers\n",
    "    matrix = build_matrix(train_data, list(result.index))\n",
    "    result['mean'] = mean_score(matrix)\n",
    "    return result"
   ]
  },
  {
   "cell_type": "code",
   "execution_count": 32,
   "id": "02c0da28",
   "metadata": {},
   "outputs": [],
   "source": [
    "def append_article(train_data, customer_id, article_id):\n",
    "    '''function to manually modify and add new purchases to a customer'''\n",
    "    \n",
    "    train_data[customer_id].add(article_id)\n",
    "    \n",
    "    return train_data\n",
    "    "
   ]
  },
  {
   "cell_type": "code",
   "execution_count": 33,
   "id": "6a08b322",
   "metadata": {},
   "outputs": [],
   "source": [
    "def remove_article(train_data, customer_id, article_id):\n",
    "    '''function to manually modify and remove purchases from a customer'''\n",
    "    train_data[customer_id].remove(article_id)\n",
    "    \n",
    "    return train_data"
   ]
  },
  {
   "cell_type": "code",
   "execution_count": 36,
   "id": "7ee7cf7d",
   "metadata": {},
   "outputs": [],
   "source": [
    "def predict(train_data, customer_id, K, recommend_num):\n",
    "    '''function predict and return a list of top recommended items'''\n",
    "    \n",
    "    #get target customer purchasing profile\n",
    "    customer = train_data[customer_id]\n",
    "    #find K number of customers similiar to target customer\n",
    "    result = get_knn(train_data, customer_id, K)\n",
    "    #get similar customers' customer id\n",
    "    knn_customers = []\n",
    "    for i in list(result.index):\n",
    "        knn_customers.append(i)\n",
    "    #using the list of similiar customers' id to create the matrix\n",
    "    knn_matrix = build_matrix(train_data, knn_customers)\n",
    "\n",
    "    #drop articles that target customer have already purchased \n",
    "    for i in customer:\n",
    "        if i in list(knn_matrix.columns):\n",
    "            knn_matrix = knn_matrix.drop([i], axis = 1)\n",
    "    \n",
    "    # iterate by matrix's column and subtract similar customers' mean score\n",
    "    # and multiply by its similarity score\n",
    "    for i in knn_matrix.iteritems():\n",
    "        knn_matrix[i[0]] = i[1] - result['mean']\n",
    "        knn_matrix[i[0]] = i[1] * result['similarity']\n",
    "    \n",
    "    \n",
    "    #sum of absolute item score and sort by descending order\n",
    "    recommended_items = knn_matrix.sum().sort_values(ascending=False)\n",
    "    #return the highest item score article id by recommended number\n",
    "    return list(recommended_items.index)[:recommend_num]"
   ]
  },
  {
   "cell_type": "code",
   "execution_count": 9,
   "id": "26b4ad70",
   "metadata": {},
   "outputs": [],
   "source": [
    "def predict_error(train_data, test_data, K, recommend_num):\n",
    "    '''function return the hits accuracy'''\n",
    "      \n",
    "    hits = 0\n",
    "    attempts = 0\n",
    "    #compile the test data into a dictionary\n",
    "    test_data = build_dataset(test_data)\n",
    "    \n",
    "    \n",
    "    for i in test_data:\n",
    "        customer_id = i\n",
    "        article_id = test_data[i]\n",
    "        #get recommended items\n",
    "        pred = predict(train_data, customer_id, K, recommend_num)\n",
    "        \n",
    "        #one prediction is equal one attempt\n",
    "        attempts += 1\n",
    "        #if the target customer's later purchases were in the recommended list\n",
    "        #hits + 1\n",
    "        for j in article_id:\n",
    "            if j in pred:\n",
    "                hits += 1\n",
    "\n",
    "      \n",
    "    return hits / attempts"
   ]
  },
  {
   "cell_type": "code",
   "execution_count": 43,
   "id": "30ddcd41",
   "metadata": {
    "scrolled": true
   },
   "outputs": [
    {
     "data": {
      "text/html": [
       "<div>\n",
       "<style scoped>\n",
       "    .dataframe tbody tr th:only-of-type {\n",
       "        vertical-align: middle;\n",
       "    }\n",
       "\n",
       "    .dataframe tbody tr th {\n",
       "        vertical-align: top;\n",
       "    }\n",
       "\n",
       "    .dataframe thead th {\n",
       "        text-align: right;\n",
       "    }\n",
       "</style>\n",
       "<table border=\"1\" class=\"dataframe\">\n",
       "  <thead>\n",
       "    <tr style=\"text-align: right;\">\n",
       "      <th></th>\n",
       "      <th>similarity</th>\n",
       "      <th>mean</th>\n",
       "    </tr>\n",
       "  </thead>\n",
       "  <tbody>\n",
       "    <tr>\n",
       "      <th>2707700c614496d8af2ce10f7c9a295367f5c95ccbfff14b9076865ebbc8be62</th>\n",
       "      <td>0.333333</td>\n",
       "      <td>0.146341</td>\n",
       "    </tr>\n",
       "    <tr>\n",
       "      <th>2ddbfc293dc1ca2776ef595ab2cb90d3ddf88734641121d17387f6b58f6c7d2f</th>\n",
       "      <td>0.308607</td>\n",
       "      <td>0.170732</td>\n",
       "    </tr>\n",
       "    <tr>\n",
       "      <th>ba29755b3de1ab95a235dc0c9dfade64920156a836fec89d1126523574091cf3</th>\n",
       "      <td>0.235702</td>\n",
       "      <td>0.073171</td>\n",
       "    </tr>\n",
       "    <tr>\n",
       "      <th>1ca787f98bd3da4bab0f694209e69dc35cfef9769954300e9bf61c445ebe7439</th>\n",
       "      <td>0.210819</td>\n",
       "      <td>0.365854</td>\n",
       "    </tr>\n",
       "    <tr>\n",
       "      <th>afcbc713086d2d6b2fdf0fd2d680158cf22677f42a7a011793cb68d702043c06</th>\n",
       "      <td>0.198030</td>\n",
       "      <td>0.414634</td>\n",
       "    </tr>\n",
       "  </tbody>\n",
       "</table>\n",
       "</div>"
      ],
      "text/plain": [
       "                                                    similarity      mean\n",
       "2707700c614496d8af2ce10f7c9a295367f5c95ccbfff14...    0.333333  0.146341\n",
       "2ddbfc293dc1ca2776ef595ab2cb90d3ddf88734641121d...    0.308607  0.170732\n",
       "ba29755b3de1ab95a235dc0c9dfade64920156a836fec89...    0.235702  0.073171\n",
       "1ca787f98bd3da4bab0f694209e69dc35cfef9769954300...    0.210819  0.365854\n",
       "afcbc713086d2d6b2fdf0fd2d680158cf22677f42a7a011...    0.198030  0.414634"
      ]
     },
     "execution_count": 43,
     "metadata": {},
     "output_type": "execute_result"
    }
   ],
   "source": [
    "demo_customer_id = '990e58645b49ec6b0c0069900d86b6d243ce21744e33502de86a74521c682c68'\n",
    "\n",
    "#demo for function get_knn\n",
    "get_knn(train_data, demo_customer_id, 5)"
   ]
  },
  {
   "cell_type": "code",
   "execution_count": 35,
   "id": "e0ff0b3a",
   "metadata": {},
   "outputs": [
    {
     "name": "stdout",
     "output_type": "stream",
     "text": [
      "Demo customer current purchase list: {691446002, 160442010, 764147001, 724399002, 575347003, 160442043}\n",
      "Demo customer updated purchase list: {111111111, 691446002, 160442010, 764147001, 724399002, 575347003, 160442043}\n",
      "Demo customer updated purchase list: {691446002, 160442010, 764147001, 724399002, 575347003, 160442043}\n"
     ]
    }
   ],
   "source": [
    "#demo for adding and removing articles from a customer\n",
    "print('Demo customer current purchase list:',train_data[demo_customer_id])\n",
    "\n",
    "#adding new articles\n",
    "append_article(train_data, demo_customer_id, 111111111)\n",
    "print('Demo customer updated purchase list:',train_data[demo_customer_id])\n",
    "\n",
    "#removing articles\n",
    "remove_article(train_data, demo_customer_id, 111111111)\n",
    "print('Demo customer updated purchase list:',train_data[demo_customer_id])"
   ]
  },
  {
   "cell_type": "code",
   "execution_count": 16,
   "id": "6e446fd9",
   "metadata": {},
   "outputs": [
    {
     "data": {
      "text/plain": [
       "[160442007,\n",
       " 372860001,\n",
       " 372860002,\n",
       " 670752001,\n",
       " 508184020,\n",
       " 539197012,\n",
       " 658841001,\n",
       " 678861001,\n",
       " 728162002,\n",
       " 728162001,\n",
       " 690980004,\n",
       " 751592001]"
      ]
     },
     "execution_count": 16,
     "metadata": {},
     "output_type": "execute_result"
    }
   ],
   "source": [
    "#demo for predict function\n",
    "predict(train_data, demo_customer_id, 50, 12)"
   ]
  },
  {
   "cell_type": "code",
   "execution_count": 17,
   "id": "1fe7e5eb",
   "metadata": {},
   "outputs": [
    {
     "data": {
      "text/plain": [
       "0.09906617945594803"
      ]
     },
     "execution_count": 17,
     "metadata": {},
     "output_type": "execute_result"
    }
   ],
   "source": [
    "predict_error(train_data, test_data, 50, 12)"
   ]
  },
  {
   "cell_type": "code",
   "execution_count": 10,
   "id": "4109287c",
   "metadata": {},
   "outputs": [],
   "source": [
    "#find the best K value given the dataset\n",
    "x = []\n",
    "y = []\n",
    "\n",
    "#default recommend 12 items \n",
    "for i in range(10, 105, 5):\n",
    "    accuracy = predict_error(train_data, test_data, i, 12)\n",
    "    y.append(accuracy)\n",
    "    x.append(i)"
   ]
  },
  {
   "cell_type": "code",
   "execution_count": 14,
   "id": "ba19c163",
   "metadata": {},
   "outputs": [
    {
     "data": {
      "image/png": "[encoded data removed]",
      "text/plain": [
       "<Figure size 792x432 with 1 Axes>"
      ]
     },
     "metadata": {
      "needs_background": "light"
     },
     "output_type": "display_data"
    }
   ],
   "source": [
    "plt.figure(figsize = (11,6))\n",
    "plt.xticks(x)\n",
    "plt.xlabel('K Value')\n",
    "plt.ylabel('Hit Accuracy')\n",
    "plt.title('K values for KNN User Collaborative Filtering Recommendation System')\n",
    "plt.plot(x,y, '-o')\n",
    "plt.show()"
   ]
  }
 ],
 "metadata": {
  "kernelspec": {
   "display_name": "Python 3 (ipykernel)",
   "language": "python",
   "name": "python3"
  },
  "language_info": {
   "codemirror_mode": {
    "name": "ipython",
    "version": 3
   },
   "file_extension": ".py",
   "mimetype": "text/x-python",
   "name": "python",
   "nbconvert_exporter": "python",
   "pygments_lexer": "ipython3",
   "version": "3.8.10"
  }
 },
 "nbformat": 4,
 "nbformat_minor": 5
}
